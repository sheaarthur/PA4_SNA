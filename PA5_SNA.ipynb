{
 "cells": [
  {
   "cell_type": "markdown",
   "id": "238cb1d4",
   "metadata": {},
   "source": [
    "# Programming Assignment 5\n",
    "## Shealyn Arthur\n",
    "## Version 1\n",
    "### SP2023 CS150-01"
   ]
  },
  {
   "cell_type": "markdown",
   "id": "e328d9f8",
   "metadata": {},
   "source": [
    "#### 1. "
   ]
  },
  {
   "cell_type": "code",
   "execution_count": 9,
   "id": "4fb47434",
   "metadata": {},
   "outputs": [
    {
     "name": "stdout",
     "output_type": "stream",
     "text": [
      "Enter a word to translate from English to Spanish (enter 0 to stop):\n",
      " hello\n",
      "The Spanish word for hello is HOLA.\n",
      "Enter a word to translate from English to Spanish (enter 0 to stop):\n",
      " hamburger\n",
      "The Spanish word for hamburger is HAMBURGUESA.\n",
      "Enter a word to translate from English to Spanish (enter 0 to stop):\n",
      " shoe\n",
      "The Spanish word for shoe is ZAPATO.\n",
      "Enter a word to translate from English to Spanish (enter 0 to stop):\n",
      " dog\n",
      "The Spanish word for dog is not in this dictionary.\n",
      "Enter a word to translate from English to Spanish (enter 0 to stop):\n",
      " 0\n"
     ]
    }
   ],
   "source": [
    "translate={'hello':'hola','chair':'silla','hamburger':'hamburguesa','class':'clase','basketball':'basquetbol','shoe':'zapato','award':'premio','blanket':'manta','mirror':'espejo','backpack':'mochila'}\n",
    "\n",
    "while True:\n",
    "    answer=input(\"Enter a word to translate from English to Spanish (enter 0 to stop):\\n \")\n",
    "    if answer=='0':\n",
    "        break\n",
    "        \n",
    "    else:\n",
    "        if answer in translate:\n",
    "            print(\"The Spanish word for \" +answer+ \" is \" +translate[answer].upper()+\".\")\n",
    "        else:\n",
    "            print(\"The Spanish word for \" +answer+ \" is not in this dictionary.\")"
   ]
  },
  {
   "cell_type": "markdown",
   "id": "aba168e9",
   "metadata": {},
   "source": [
    "#### 2. "
   ]
  },
  {
   "cell_type": "code",
   "execution_count": 11,
   "id": "aee1909c",
   "metadata": {},
   "outputs": [
    {
     "name": "stdout",
     "output_type": "stream",
     "text": [
      "{1: 12.778, 2: 17.222, 3: 17.222, 4: 15.0, 5: 9.444, 6: 7.778, 7: 10.556, 8: 5.556, 9: 7.222, 10: 11.667, 11: 15.0, 12: 14.444, 13: 3.889, 14: 3.333, 15: 7.222, 16: 12.222, 17: 17.222, 18: 13.889, 19: 17.222, 20: 5.0, 21: 5.556, 22: 2.778, 23: 3.333, 24: -2.778, 25: 8.889, 26: 2.222, 27: 10.556, 28: 13.889, 29: 8.333, 30: 3.333, 31: -1.667}\n"
     ]
    }
   ],
   "source": [
    "Temp_dict={1:55,2:63,3:63,4:59,5:49,6:46,7:51,8:42,9:45,10:53,11:59,12:58,13:39,14:38,15:45,16:54,17:63,18:57,19:63,20:41,21:42,22:37,23:38,24:27,25:48,26:36,27:51,28:57,29:47,30:38,31:29}\n",
    "\n",
    "for key, value in Temp_dict.items():\n",
    "    celsius_temp=(value-32)*5/9\n",
    "    Temp_dict[key]=round(celsius_temp,3)\n",
    "print(Temp_dict)"
   ]
  },
  {
   "cell_type": "markdown",
   "id": "81ffb2e9",
   "metadata": {},
   "source": [
    "#### 3."
   ]
  },
  {
   "cell_type": "code",
   "execution_count": 12,
   "id": "3eb95924",
   "metadata": {},
   "outputs": [
    {
     "name": "stdout",
     "output_type": "stream",
     "text": [
      "{1: 1, 2: 4, 3: 9, 4: 16, 5: 25, 6: 36, 7: 49, 8: 64, 9: 81, 10: 100, 11: 121, 12: 144, 13: 169, 14: 196, 15: 225}\n"
     ]
    }
   ],
   "source": [
    "square=dict()\n",
    "for x in range(1,16):\n",
    "    square[x]=x**2\n",
    "print(square)"
   ]
  }
 ],
 "metadata": {
  "kernelspec": {
   "display_name": "Python 3 (ipykernel)",
   "language": "python",
   "name": "python3"
  },
  "language_info": {
   "codemirror_mode": {
    "name": "ipython",
    "version": 3
   },
   "file_extension": ".py",
   "mimetype": "text/x-python",
   "name": "python",
   "nbconvert_exporter": "python",
   "pygments_lexer": "ipython3",
   "version": "3.9.13"
  }
 },
 "nbformat": 4,
 "nbformat_minor": 5
}
